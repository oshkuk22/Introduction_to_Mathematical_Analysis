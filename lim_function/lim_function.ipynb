{
 "cells": [
  {
   "cell_type": "markdown",
   "metadata": {},
   "source": [
    "### 1. Найти предел последовательности:\n",
    "\n",
    "### $$а)\\,\\,\\,\\,\\lim_{x\\to 6} \\frac{x^2-36}{x^2-x-30}$$\n",
    "### Решение:\n",
    "### $$\\,\\,\\,\\,\\lim_{x\\to 6} \\frac{x^2-36}{x^2-x-30} = lim_{x\\to 6} \\frac{(x-6)(x+6)}{(x-6)(x+5)} = lim_{x\\to 6} \\frac{(x+6)}{(x+5)} = \\frac{12}{11} = $$"
   ]
  },
  {
   "cell_type": "markdown",
   "metadata": {},
   "source": [
    "### $$б)\\,\\,\\,\\,\\lim_{x\\to 7} \\frac{x^2-49}{x^2-13x+42}$$\n",
    "### Решение:\n",
    "### $$б)\\,\\,\\,\\,\\lim_{x\\to 7} \\frac{x^2-49}{x^2-13x+42} = \\lim_{x\\to 7} \\frac{(x-7)(x+7)}{(x-7)(x-6)} = \\lim_{x\\to 7} \\frac{(x+7)}{(x-6)} = 14$$"
   ]
  },
  {
   "cell_type": "markdown",
   "metadata": {},
   "source": [
    "### $$в^*)\\,\\,\\,\\,\\lim_{x\\to 7} \\frac{\\sqrt{x+2}-\\sqrt[3]{x+20}}{\\sqrt[4]{x+9}-2}$$\n",
    "### Решение:\n",
    "### $$Пусть\\,x = 7 + h,\\, \\,\\,\\,  (1+h)^{\\frac{1}{n}}\\approx1+\\frac{h}{n}, \\,\\,\\,\\,(1+\\frac{h}{n})^n\\approx1+h$$ \n",
    "### $$\\lim_{x\\to 7} \\frac{\\sqrt{x+2}-\\sqrt[3]{x+20}}{\\sqrt[4]{x+9}-2} = \\lim_{h\\to 0} \\frac{\\sqrt{h+9}-\\sqrt[3]{h+27}}{\\sqrt[4]{h +16}-2} = \\lim_{h\\to 0} \\frac{3\\sqrt{1+\\frac{h}{9}}-3\\sqrt[3]{1 + \\frac{h}{27}}}{2\\sqrt[4]{1 + \\frac{h}{16}}-2} = $$\n",
    "### $$ = \\lim_{h\\to 0} \\frac{3+\\frac{h}{6}-3 + \\frac{h}{27}}{2 + \\frac{h}{32}-2} = \\lim_{h\\to 0} \\frac{\\frac{7h}{54}}{2 + \\frac{h}{32}-2} = \\frac{224}{54} = \\frac{112}{27}$$"
   ]
  },
  {
   "cell_type": "markdown",
   "metadata": {},
   "source": [
    "### $$г)\\,\\,\\,\\,\\lim_{x\\to 0} \\frac{3x\\,\\mbox{tg}\\,4x}{1-\\cos4x}$$\n",
    "### Решение:\n",
    "### $$\\lim_{x\\to 0} \\frac{3x\\,\\mbox{tg}\\,4x}{1-\\cos4x} = \\lim_{x\\to 0} \\frac{3x\\,\\frac{\\sin4x}{\\cos4x}}{2\\sin^22x} =  \\lim_{x\\to 0} \\frac{3x\\,\\sin4x}{2\\sin^22x\\cos4x} = \\lim_{x\\to 0} \\frac{3x\\,\\sin4x}{2\\sin^22x *1} = \\lim_{x\\to 0} \\frac{3x\\,\\sin4x}{2*4x^2} = $$\n",
    "### $$=\\lim_{x\\to 0} \\frac{3\\,\\sin4x}{2*4x} = \\frac{3}{2}$$"
   ]
  },
  {
   "cell_type": "markdown",
   "metadata": {},
   "source": [
    "### $$д^{**})\\,\\,\\,\\,\\lim_{x\\to 0} \\frac{\\sqrt2x^2\\sin4x}{(1-\\cos2x)^{\\frac{3}{2}}}$$\n",
    "### Решение:\n",
    "### $$\\lim_{x\\to 0} \\frac{\\sqrt2x^2\\sin4x}{(1-\\cos2x)^{\\frac{3}{2}}} = \\lim_{x\\to 0} \\frac{\\sqrt2x^2\\sin4x}{(2\\sin^2x)^{\\frac{3}{2}}} = \\lim_{x\\to 0} \\frac{\\sqrt2x^2\\sin4x}{(\\sqrt8\\sin^3x)}=\\lim_{x\\to 0} \\frac{\\sqrt2x^2\\sin4x}{(\\sqrt8x^3)}=\\lim_{x\\to 0} \\frac{\\sqrt2\\sin4x}{(\\sqrt8x)}=$$\n",
    "### $$ = \\lim_{x\\to 0} \\frac{4\\sqrt2\\sin4x}{(\\sqrt8\\,4x)} = \\frac{4\\sqrt2}{\\sqrt8} = 2$$"
   ]
  },
  {
   "cell_type": "markdown",
   "metadata": {},
   "source": [
    "### $$е)\\,\\,\\,\\,\\lim_{x\\to \\infty} \\Bigr(\\frac{4x}{4x+3}\\Bigl)^\\frac{5x^2}{7x-1}$$\n",
    "### Решение:\n",
    "\n",
    "### $$е)\\lim_{x\\to \\infty} \\Bigr(\\frac{4x}{4x+3}\\Bigl)^\\frac{5x^2}{7x-1} =\\lim_{x\\to \\infty}e^{(\\frac{4x}{4x+3} -1)\\frac{5x^2}{7x-1}} = \\lim_{x\\to \\infty}e^{-\\frac{3}{4x+3}\\frac{5x^2}{7x-1}} = e^{-\\frac{15}{28}}$$"
   ]
  },
  {
   "cell_type": "markdown",
   "metadata": {},
   "source": [
    "### $$ж^*)\\,\\,\\,\\,\\lim_{x\\to +0} \\frac{5^x-1}{x} = \\lim_{x\\to +0} \\frac{e^{\\ln(5^x)}-1}{x} = \\lim_{x\\to +0} \\frac{e^{x\\ln(5)}-1}{x} = \\lim_{x\\to +0} \\frac{\\ln(a)*e^{x\\ln(5)}-1}{x*\\ln(a)} = \\ln(a)$$"
   ]
  },
  {
   "cell_type": "markdown",
   "metadata": {},
   "source": [
    "### $$з^*)\\,\\,\\,\\,\\lim_{x\\to +\\infty} \\frac{\\ln(x^2-x+1)}{\\ln(x^{10}+x+1)} = \\lim_{x\\to +\\infty} \\frac{\\ln(x^2)(1-\\frac{1}{x}+\\frac{1}{x^2})}{\\ln(x^{10})(1+\\frac{1}{x^9}+\\frac{1}{x^{10}})}= \\lim_{x\\to +\\infty} \\frac{2\\ln(x) + \\ln(1-\\frac{1}{x}+\\frac{1}{x^2})}{10\\ln(x) + \\ln(1+\\frac{1}{x^9}+\\frac{1}{x^{10}})} =$$\n",
    "### $$ = \\lim_{x\\to +\\infty} \\frac{2\\ln(x) + \\ln(1-\\frac{1}{x}+\\frac{1}{x^2})}{10\\ln(x) + \\ln(1+\\frac{1}{x^9}+\\frac{1}{x^{10}})} = \\lim_{x\\to +\\infty} \\frac{2\\ln(x) + \\ln(1)}{10\\ln(x) + \\ln(1)} = \\frac{1}{5}$$"
   ]
  },
  {
   "cell_type": "markdown",
   "metadata": {},
   "source": [
    "### __2*.__ На языке Python предложить алгоритм вычисляющий численно предел\n",
    "\n",
    "### $$\\lim_{x\\to +\\infty} \\frac{x}{\\sqrt[x]{x!}}$$"
   ]
  },
  {
   "cell_type": "code",
   "execution_count": null,
   "metadata": {
    "scrolled": true
   },
   "outputs": [
    {
     "name": "stdout",
     "output_type": "stream",
     "text": [
      "1\n"
     ]
    }
   ],
   "source": [
    "from decimal import Decimal\n",
    "\n",
    "\n",
    "epsilon_ = 10**(-6)\n",
    "\n",
    "def get_nextelement(n):\n",
    "    fact_ = 1\n",
    "    for i in range(1, n + 1):\n",
    "        fact_ = fact_ * i\n",
    "        elem_next = Decimal(i)/Decimal(fact_)**Decimal(1 / i)\n",
    "        yield elem_next\n",
    "    \n",
    "\n",
    "    \n",
    "s = get_nextelement(5000)\n",
    "first_elem = 1\n",
    "for i in s:\n",
    "    if abs(first_elem - i) < epsilon_:\n",
    "        print(i)\n",
    "    else:\n",
    "        first_elem = i\n",
    "    "
   ]
  },
  {
   "cell_type": "code",
   "execution_count": null,
   "metadata": {},
   "outputs": [],
   "source": []
  }
 ],
 "metadata": {
  "kernelspec": {
   "display_name": "Python 3",
   "language": "python",
   "name": "python3"
  },
  "language_info": {
   "codemirror_mode": {
    "name": "ipython",
    "version": 3
   },
   "file_extension": ".py",
   "mimetype": "text/x-python",
   "name": "python",
   "nbconvert_exporter": "python",
   "pygments_lexer": "ipython3",
   "version": "3.7.6"
  }
 },
 "nbformat": 4,
 "nbformat_minor": 4
}
