{
 "cells": [
  {
   "cell_type": "markdown",
   "metadata": {},
   "source": [
    "### __1.__ Исследовать на условный экстремум функцию\n",
    "\n",
    "### $$U=3-8x+6y,$$\n",
    "\n",
    "если\n",
    "\n",
    "### $$x^2+y^2=36$$"
   ]
  },
  {
   "cell_type": "markdown",
   "metadata": {},
   "source": [
    "### Решение:\n",
    "### $$L(x,y,\\lambda)=3-8x+6y +\\lambda \\cdot2𝜆 (x^2+y^2-36)$$\n",
    "### $$\\begin{cases}\n",
    "   L'_{x}=-8+\\lambda \\cdot2x=0, \\\\\n",
    "   L'_{y}=6+\\lambda \\cdot2y=0, \\\\\n",
    "   L'_{\\lambda}=x^2+y^2-36=0\n",
    " \\end{cases}$$\n",
    " ### $$\\begin{cases}\n",
    "   x=\\frac{4}{\\lambda}, \\\\\n",
    "   y=-\\frac{3}{\\lambda}, \\\\\n",
    "   \\Bigr(\\frac{4}{\\lambda}\\Bigl)^2+\\Bigr(-\\frac{3}{\\lambda}\\Bigl)^2=36\n",
    " \\end{cases}\\Rightarrow \n",
    " \\begin{cases}\n",
    "   x=\\frac{4}{\\lambda}, \\\\\n",
    "   y=-\\frac{3}{\\lambda}, \\\\\n",
    "   \\frac{25}{\\lambda^2}=36\n",
    " \\end{cases}\n",
    " \\Rightarrow \n",
    " \\begin{cases}\n",
    "    x=\\frac{4}{\\lambda}, \\\\\n",
    "   y=-\\frac{3}{\\lambda}, \\\\\n",
    "   \\lambda^2=\\frac{25}{36}\n",
    " \\end{cases}$$\n",
    " Получаем две точки: $(\\frac{8\\sqrt3}{3},-2\\sqrt{3},\\frac{\\sqrt 3}{2})$ и $(-\\frac{8\\sqrt3}{3},2\\sqrt{3},-\\frac{\\sqrt 3}{2})$\n",
    " ### $$L''_{xx}=2\\lambda$$\n",
    "### $$L''_{yy}=2\\lambda$$\n",
    "### $$L''_{\\lambda \\lambda}=0$$\n",
    "### $$L''_{xy}=L''_{yx}=0$$\n",
    "### $$L''_{x\\lambda}=L''_{\\lambda x}=2x$$\n",
    "### $$L''_{y\\lambda}=L''_{\\lambda y}=2y$$ \n",
    "### $$\\begin{pmatrix}\n",
    "L''_{\\lambda \\lambda} & L''_{\\lambda x} & L''_{\\lambda y}\\\\ \n",
    "L''_{x \\lambda} & L''_{xx} & L''_{xy}\\\\\n",
    "L''_{y \\lambda} & L''_{yx} & L''_{yy}\\\\\n",
    "\\end{pmatrix}\\Rightarrow\n",
    "\\begin{pmatrix}\n",
    "0 & 2x & 2y\\\\ \n",
    "2x & 2\\lambda & 0\\\\\n",
    "2y & 0 & 2\\lambda\\\\\n",
    "\\end{pmatrix}$$\n",
    "### $$\\Delta=\\begin{vmatrix}\n",
    "0 & 2x & 2y\\\\ \n",
    "2x & 2\\lambda & 0\\\\\n",
    "2y & 0 & 2\\lambda\\\\\n",
    "\\end{vmatrix}=\n",
    "=0\\cdot\n",
    "\\begin{vmatrix}\n",
    "2\\lambda & 0\\\\\n",
    "0 & 2\\lambda\\\\\n",
    "\\end{vmatrix}-2x\\cdot\n",
    "\\begin{vmatrix}\n",
    "2x & 0\\\\\n",
    "2y & 2\\lambda\\\\\n",
    "\\end{vmatrix}+2y\\cdot\n",
    "\\begin{vmatrix}\n",
    "2x & 2\\lambda\\\\\n",
    "2y & 0\\\\\n",
    "\\end{vmatrix}=-8\\lambda(x^2+y^2)=-8\\lambda36 =$$\n",
    "### $$=- 288\\lambda$$\n",
    "\n",
    "Если $\\lambda=\\frac{\\sqrt3}{2}$, то $\\Delta<0$, следовательно $(\\frac{8\\sqrt3}{3},-2\\sqrt{3},\\frac{\\sqrt 3}{2})$ - точка минимума.\n",
    "\n",
    "Если $\\lambda=-\\frac{\\sqrt3}{2}$, то $\\Delta>0$, следовательно $(-\\frac{8\\sqrt3}{3},2\\sqrt{3},-\\frac{\\sqrt 3}{2})$ - точка максимума."
   ]
  },
  {
   "cell_type": "markdown",
   "metadata": {},
   "source": [
    "### __2.__ Исследовать на условный экстремум функцию\n",
    "\n",
    "### $$U=2x^2+12xy+32y^2+15,$$\n",
    "\n",
    "если\n",
    "\n",
    "### $$x^2+16y^2=64$$\n"
   ]
  },
  {
   "cell_type": "markdown",
   "metadata": {},
   "source": [
    "### Решение:\n",
    "### $$L(x,y,\\lambda)=2x^2+12xy+32y^2+15+\\lambda \\cdot (x^2+16y^2-64)$$\n",
    "### $$\\begin{cases}\n",
    "   L'_{x}=4x+12y+2x\\lambda=0, \\\\\n",
    "   L'_{y}=12x+64y+\\lambda32y=0, \\\\\n",
    "   L'_{\\lambda}=x^2+16y^2-64=0\n",
    " \\end{cases}$$\n",
    "  Получаем четыре точки: $(-4\\sqrt2;-\\sqrt{2};-\\frac{7}{2})$, $(-4\\sqrt2;\\sqrt{2};-\\frac{1}{2})$, $(4\\sqrt2;-\\sqrt{2};-\\frac{1}{2})$, $(4\\sqrt2;\\sqrt{2};-\\frac{7}{2})$\n",
    "### $$L''_{xx}=4+2\\lambda$$\n",
    "### $$L''_{yy}=64+32\\lambda$$\n",
    "### $$L''_{\\lambda \\lambda}=0$$\n",
    "### $$L''_{xy}=L''_{yx}=12$$\n",
    "### $$L''_{x\\lambda}=L''_{\\lambda x}=2x$$\n",
    "### $$L''_{y\\lambda}=L''_{\\lambda y}=32y$$ \n",
    "### $$\\begin{pmatrix}\n",
    "L''_{\\lambda \\lambda} & L''_{\\lambda x} & L''_{\\lambda y}\\\\ \n",
    "L''_{x \\lambda} & L''_{xx} & L''_{xy}\\\\\n",
    "L''_{y \\lambda} & L''_{yx} & L''_{yy}\\\\\n",
    "\\end{pmatrix}\\Rightarrow\n",
    "\\begin{pmatrix}\n",
    "0 & 2x & 32y\\\\ \n",
    "2x & 4+2\\lambda & 12\\\\\n",
    "32y & 12 & 64+32\\lambda\\\\\n",
    "\\end{pmatrix}$$\n",
    "### $$\\Delta=\\begin{vmatrix}\n",
    "0 & 2x & 32y\\\\ \n",
    "2x & 4+2\\lambda & 12\\\\\n",
    "32y & 12 & 64+32\\lambda\\\\\n",
    "\\end{vmatrix}\n",
    "=-2x\\cdot\n",
    "\\begin{vmatrix}\n",
    "2x & 12\\\\\n",
    "32y & 64 +32\\lambda\\\\\n",
    "\\end{vmatrix}+32y\\cdot\n",
    "\\begin{vmatrix}\n",
    "2x & 4+2\\lambda\\\\\n",
    "32y & 12\\\\\n",
    "\\end{vmatrix}=$$\n",
    "### $$=-256x^2-128x^2\\lambda+768yx+768yx-4096y^2-2048\\lambda y^2=$$\n",
    "### $$=-256x^2-128x^2\\lambda+1536yx-4096y^2-2048\\lambda y^2$$\n",
    "$(-4\\sqrt2;-\\sqrt{2};-\\frac{7}{2})$, то $\\Delta>0$, следовательно $(-4\\sqrt2;-\\sqrt{2};-\\frac{7}{2})$ - точка максимума. \\\n",
    "$(-4\\sqrt2;\\sqrt{2};-\\frac{1}{2})$, то $\\Delta<0$, следовательно $(-4\\sqrt2;\\sqrt{2};-\\frac{1}{2})$ - точка минимума. \\\n",
    "$(4\\sqrt2;-\\sqrt{2};-\\frac{1}{2})$, то $\\Delta<0$, следовательно $(4\\sqrt2;-\\sqrt{2};-\\frac{1}{2})$ - точка минимума.\\\n",
    "$(4\\sqrt2;\\sqrt{2};-\\frac{7}{2})$, то $\\Delta>0$, следовательно $(4\\sqrt2;\\sqrt{2};-\\frac{7}{2})$ - точка максимума."
   ]
  },
  {
   "cell_type": "markdown",
   "metadata": {},
   "source": [
    "### __3.__ Численно найти хотя бы один действительный корень системы нелинейных уравнений:\n",
    "### $$\\begin{cases}\n",
    "   x^2-y^2+3xy^3-2x^2y^2+2x-3y-5=0 \\\\\n",
    "   3y^3-2x^2+2x^3y-5x^2y^2+5=0\n",
    " \\end{cases}$$"
   ]
  },
  {
   "cell_type": "markdown",
   "metadata": {},
   "source": [
    "### Решение:"
   ]
  },
  {
   "cell_type": "code",
   "execution_count": 30,
   "metadata": {},
   "outputs": [
    {
     "name": "stdout",
     "output_type": "stream",
     "text": [
      "1.273302064528599 1.6620391224277693 1\n"
     ]
    }
   ],
   "source": [
    "from scipy.optimize import fsolve\n",
    "\n",
    "\n",
    "def equations(p):\n",
    "    x,y = p\n",
    "    return (x**2-y**2+3*x*y**3-2*x**2*y**2+2*x-3*y-5,3*y**3-2*x**2+2*x**3*y-5*x**2*y**2+5)\n",
    "\n",
    "(x, y), info, ier, mesg =  fsolve(equations, (10, 10), full_output=True)\n",
    "print (x, y, ier)"
   ]
  },
  {
   "cell_type": "markdown",
   "metadata": {},
   "source": [
    "### __4*.__ Численно найти все $5$ действительных корней."
   ]
  },
  {
   "cell_type": "markdown",
   "metadata": {},
   "source": [
    "### Решение:"
   ]
  },
  {
   "cell_type": "code",
   "execution_count": 39,
   "metadata": {},
   "outputs": [
    {
     "name": "stdout",
     "output_type": "stream",
     "text": [
      "{(-3.65307996, -0.27476341), (2.49435653, 0.70831752), (2.21775363, 0.61019397), (1.37568714, -0.17475798), (1.27330206, 1.66203912)}\n"
     ]
    }
   ],
   "source": [
    "import numpy as np\n",
    "from scipy.optimize import fsolve\n",
    "\n",
    "def equations(p):\n",
    "    x,y = p\n",
    "    return (x**2-y**2+3*x*y**3-2*x**2*y**2+2*x-3*y-5,3*y**3-2*x**2+2*x**3*y-5*x**2*y**2+5)\n",
    "\n",
    "solv_x = set()\n",
    "for x in np.arange (-20, 20, 2):\n",
    "    for y in np.arange (-10, 10, 2):\n",
    "        (x, y), info, ier, mesg =  fsolve(equations, (x,y), full_output=True)\n",
    "        if (ier == 1):\n",
    "            solv_x.add((int(x*10**8)/10**8, int(y*10**8)/10**8))\n",
    "print (solv_x)"
   ]
  },
  {
   "cell_type": "markdown",
   "metadata": {},
   "source": [
    "### __5*.__ Даны две функции $y_{1}=f(x)$ и $y_{2}=g(x)$. Известно, что:\n",
    "\n",
    "### $$f'(x)=\\frac{1}{2}g(x)$$\n",
    "\n",
    "### $$g'(x)=2-2f(x)$$\n",
    "\n",
    "### $$f(0)=0$$\n",
    "\n",
    "### $$g(0)=1$$\n",
    "\n",
    "Восстановить функции $y_{1}=f(x)$ и $y_{2}=g(x)$ с помощью формулы:\n",
    "\n",
    "### $$f(x+\\Delta x) \\approx f(x)+f'(x) \\cdot \\Delta x$$\n",
    "\n",
    "В качестве решения построить график этих функций в одной системе координат на участке $[0, 20]$.\n",
    "\n",
    "Решение:"
   ]
  },
  {
   "cell_type": "code",
   "execution_count": 1,
   "metadata": {},
   "outputs": [
    {
     "data": {
      "image/png": "[encoded data removed]",
      "text/plain": [
       "<Figure size 432x288 with 1 Axes>"
      ]
     },
     "metadata": {
      "needs_background": "light"
     },
     "output_type": "display_data"
    }
   ],
   "source": [
    "import matplotlib.pyplot as plt\n",
    "from scipy.interpolate import splev, splrep\n",
    "import numpy as np\n",
    "\n",
    "n=10000\n",
    "l=20\n",
    "h=l/n\n",
    "x = np.arange (0, l, h)\n",
    "x = np.append(x,l)\n",
    "f = np.array([0])\n",
    "g = np.array([1])\n",
    "\n",
    "\n",
    "while(n != 0):\n",
    "    f = np.append(f, f[len(f)-1] + 0.5*g[len(f)-1]*h)\n",
    "    g = np.append(g, g[len(g)-1] + (2-2*f[len(g)-1])*h)\n",
    "    n-=1\n",
    "x2 = np.linspace(0, l, 200)\n",
    "\n",
    "spl_f = splrep(x, f)\n",
    "f2=splev(x2, spl_f)\n",
    "plt.plot(x2, f2, label=\"Функция f(x)\")\n",
    "\n",
    "\n",
    "spl_g = splrep(x, g)\n",
    "g2=splev(x2, spl_g)\n",
    "plt.plot(x2, g2, label=\"Функция g(x)\")\n",
    "\n",
    "\n",
    "\n",
    "\n",
    "plt.legend()\n",
    "plt.show()"
   ]
  },
  {
   "cell_type": "markdown",
   "metadata": {},
   "source": [
    "### __6**.__ Найти все корни уравнения:\n",
    "    \n",
    "### $$f(x)=g(x)$$\n",
    "\n",
    "на участке $[0, 20]$\n",
    "\n",
    "Где $y_{1}=f(x)$ и $y_{2}=g(x)$ - функции из предыдущего решения.\n",
    "\n",
    "Решение:"
   ]
  },
  {
   "cell_type": "code",
   "execution_count": 2,
   "metadata": {},
   "outputs": [
    {
     "name": "stdout",
     "output_type": "stream",
     "text": [
      "{1.80356929, 5.76490722, 8.08949029, 12.04538873, 14.375391, 18.32589034}\n"
     ]
    }
   ],
   "source": [
    "import numpy as np\n",
    "from scipy.optimize import fsolve, broyden2\n",
    "import math\n",
    "\n",
    "def equations(p):\n",
    "    x = p\n",
    "    return splev(x, spl_f)-splev(x, spl_g)\n",
    "\n",
    "solv = set()\n",
    "for x in np.arange (0, l, h):\n",
    "    x, info, ier, mesg =  fsolve(equations, x, full_output=True)\n",
    "    if (ier == 1 and x>0 and x<l): solv.add(int(x*10**8)/10**8)\n",
    "            \n",
    "print (solv)"
   ]
  },
  {
   "cell_type": "code",
   "execution_count": null,
   "metadata": {},
   "outputs": [],
   "source": []
  }
 ],
 "metadata": {
  "kernelspec": {
   "display_name": "Python 3",
   "language": "python",
   "name": "python3"
  },
  "language_info": {
   "codemirror_mode": {
    "name": "ipython",
    "version": 3
   },
   "file_extension": ".py",
   "mimetype": "text/x-python",
   "name": "python",
   "nbconvert_exporter": "python",
   "pygments_lexer": "ipython3",
   "version": "3.7.6"
  }
 },
 "nbformat": 4,
 "nbformat_minor": 4
}
