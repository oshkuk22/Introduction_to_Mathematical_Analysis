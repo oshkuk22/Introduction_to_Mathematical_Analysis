{
 "cells": [
  {
   "cell_type": "markdown",
   "metadata": {},
   "source": [
    "### __1.__ Найти частные производные первого и второго порядка. Убедиться в равенстве смешанных производных.\n",
    "\n",
    "### $$U=x^3+3xy^2+z^2-39x-36y+2z+26$$"
   ]
  },
  {
   "cell_type": "markdown",
   "metadata": {},
   "source": [
    "### Решения:\n",
    "### $$ U'_x = 3x^2 + 3y^2 -39$$\n",
    "### $$ U'_y = 6xy-36$$\n",
    "### $$ U'_z = 2z+2$$\n",
    "### $$ U''_{xx} = 6x$$\n",
    "### $$ U''_{xy} = 6y$$\n",
    "### $$ U''_{xz} = 0$$\n",
    "### $$ U''_{yy} = 6x$$\n",
    "### $$ U''_{yx} = 6y$$\n",
    "### $$ U''_{yz} = 0$$\n",
    "### $$ U''_{zz} = 2$$\n",
    "### $$ U''_{zx} = 0$$\n",
    "### $$ U''_{zy} = 0$$"
   ]
  },
  {
   "cell_type": "markdown",
   "metadata": {},
   "source": [
    "### __2.__ Найти частные производные первого и второго порядка. Убедиться в равенстве смешанных производных.\n",
    "\n",
    "### $$U=\\frac{256}{x}+\\frac{x^2}{y}+\\frac{y^2}{z}+z^2$$"
   ]
  },
  {
   "cell_type": "markdown",
   "metadata": {},
   "source": [
    "### Ркешение:\n",
    "### $$ U'_x = -\\frac{256}{x^2} + \\frac{2x}{y}$$\n",
    "### $$ U'_y = -\\frac{x^2}{y^2} + \\frac{2y}{z}$$\n",
    "### $$ U'_z = -\\frac{y^2}{z^2} + 2z$$\n",
    "### $$ U''_{xx} = \\frac{512}{x^3} + \\frac{2}{y}$$\n",
    "### $$ U''_{xy} =-\\frac{2x}{y^2}$$\n",
    "### $$ U''_{xz} = 0$$\n",
    "### $$ U''_{yy} = \\frac{2x^2}{y^3} + \\frac{2}{z}$$\n",
    "### $$ U''_{yx} = -\\frac{2x}{y^2}$$\n",
    "### $$ U''_{yz} = -\\frac{2y}{z^2}$$\n",
    "### $$ U''_{zz} = \\frac{2y^2}{z^3}+2$$\n",
    "### $$ U''_{zx} = 0$$\n",
    "### $$ U''_{zy} = -\\frac{2y}{z^2}$$"
   ]
  },
  {
   "cell_type": "markdown",
   "metadata": {},
   "source": [
    "### __3.__ Найти производную функции $U=x^2+y^2+z^2$ по направлению вектора $\\overrightarrow{c}(-9,8,-12)$ в точке $M(8,-12,9)$"
   ]
  },
  {
   "cell_type": "markdown",
   "metadata": {},
   "source": [
    "### Решение:\n",
    "### $$ U'_x = 2x$$\n",
    "### $$ U'_y = 2y$$\n",
    "### $$ U'_z = 2z$$\n",
    "### $$ \\mbox{grad}U=(2x,2y,2z)$$\n",
    "### $$ \\mid\\overrightarrow{c}\\mid = \\sqrt{81+64+144} = 17$$\n",
    "### $$ \\overrightarrow {c_0} = \\Big(-\\frac{9}{17}, \\frac{8}{17}, -\\frac{12}{17}\\Big)$$\n",
    "### $$ \\mbox{grad}U_M=(16,-24, 18)$$\n",
    "### $$ U'_\\overrightarrow {c}=\\frac{-9 \\cdot 16}{17} + \\frac{-24 \\cdot 8}{17} + \\frac{-12 \\cdot 18}{17} = -\\frac{552}{17}$$"
   ]
  },
  {
   "cell_type": "markdown",
   "metadata": {},
   "source": [
    "### __4.__ Найти производную функции $U=e^{x^2+y^2+z^2}$ по направлению вектора $\\overrightarrow{c}(4,-13,-16)$ в точке $L(-16,4,-13)$"
   ]
  },
  {
   "cell_type": "markdown",
   "metadata": {},
   "source": [
    "### Решение:\n",
    "### $$ U'_x = 2xe^{x^2}$$\n",
    "### $$ U'_y = 2ye^{y^2}$$\n",
    "### $$ U'_z = 2ze^{z^2}$$\n",
    "### $$ \\mbox{grad}U=(2xe^{x^2},2ye^{y^2},2ze^{z^2})$$\n",
    "### $$ \\mid\\overrightarrow{c}\\mid = \\sqrt{16+169+196} = 21$$\n",
    "### $$ \\overrightarrow {c_0} = \\Big(\\frac{4}{21}, -\\frac{13}{21}, -\\frac{16}{21}\\Big)$$\n",
    "### $$ \\mbox{grad}U_L=(-32e^{196},8e^{16}, -26e^{169})$$\n",
    "### $$ U'_\\overrightarrow {c}=\\frac{-128e^{196}}{21} + \\frac{-104e^{16} \\cdot 8}{21} + \\frac{416e^{169}}{21} = -\\frac{-128e^{196}-104e^{16}+416e^{169}}{21}$$"
   ]
  },
  {
   "cell_type": "markdown",
   "metadata": {},
   "source": [
    "### __5*.__ Найти производную функции $U=\\log_{21}(x^2+y^2+z^2)$ в точке $F(-19,8,-4)$ по самому быстрому направлению."
   ]
  },
  {
   "cell_type": "markdown",
   "metadata": {},
   "source": [
    "### Решение:\n",
    "### $$ U'_x = \\frac{2x}{(x^2+y^2+z^2)\\ln{21}}$$\n",
    "### $$ U'_y = \\frac{2y}{(x^2+y^2+z^2)\\ln{21}}$$\n",
    "### $$ U'_z = \\frac{2z}{(x^2+y^2+z^2)\\ln{21}}$$\n",
    "\n",
    "### $$ \\mbox{grad}U_F=\\Big(-\\frac{38}{441\\ln{21}},\\frac{16}{441\\ln{21}},-\\frac{8}{441\\ln{21}}\\Big)$$\n",
    "### $$ \\mid\\mbox{grad}U_F\\mid=\\sqrt{\\frac{1444}{441\\ln{21}}+\\frac{256}{441\\ln{21}}+\\frac{64}{441\\ln{21}}} = \\frac{2}{21\\ln{21}}$$\n",
    "### $$ \\mbox{grad}U_0=\\Big(-\\frac{19}{21},\\frac{8}{21},-\\frac{4}{21}\\Big)$$\n",
    "### $$ U'_{\\mbox{grad}U_0}=\\mbox{grad}U_0\\cdot\\mbox{grad}U=\\frac{2}{21\\ln 21}$$"
   ]
  },
  {
   "cell_type": "markdown",
   "metadata": {},
   "source": [
    "### __6.__ Исследовать на экстремум функцию:\n",
    "\n",
    "### $$U=x^2y+\\frac{1}{3}y^3+2x^2+3y^2-1$$"
   ]
  },
  {
   "cell_type": "markdown",
   "metadata": {},
   "source": [
    "### Решение:\n",
    "### $$ U'_x = 2yx+4x$$\n",
    "### $$ U'_y = x^2+y^2+6y$$\n",
    "### \\begin{cases}\n",
    "   2yx+4x=0, \\\\\n",
    "   x^2+y^2+6y=0 \n",
    " \\end{cases}\n",
    "\n",
    "### $$ (0, 0),(0,-6),(-2\\sqrt2,-2),(2\\sqrt2,-2)$$\n",
    "### $$ U'_{xx} = 2y+4$$\n",
    "### $$ U'_{yy} = 2y+6$$\n",
    "### $$ U'_{xy} = 2x$$\n",
    "###  $$\\begin{pmatrix}\n",
    "2y+6 & 2x\\\\ \n",
    "2x & 2y+4\\\\\n",
    "\\end{pmatrix}$$\n",
    "### $$\\Delta_{1}=U''_{xx}=2y+6$$\n",
    "### $$\\Delta_{2}=4y^2+20y+24-4x^2$$\n",
    "### $$ (0,0)$$\n",
    "### $$\\Delta_{1}=6$$\n",
    "### $$\\Delta_{2}=24$$\n",
    "### $$ (0,0) - \\ точка\\ минимума$$\n",
    "### $$ (0,-6)$$\n",
    "### $$\\Delta_{1}=-6$$\n",
    "### $$\\Delta_{2}=48$$\n",
    "### $$ (0,-6) - \\ точка\\ максимума$$\n",
    "### $$ (-2\\sqrt2,-2)$$\n",
    "### $$\\Delta_{1}=2$$\n",
    "### $$\\Delta_{2}=-32$$\n",
    "### $$ (-2\\sqrt2,-2) - \\ точка\\ седловая$$\n",
    "### $$ (2\\sqrt2,-2)$$\n",
    "### $$\\Delta_{1}=2$$\n",
    "### $$\\Delta_{2}=-32$$\n",
    "### $$ (2\\sqrt2,-2) - \\ точка\\ седловая$$\n"
   ]
  },
  {
   "cell_type": "markdown",
   "metadata": {},
   "source": [
    "### __7*.__ Исследовать на экстремум функцию:\n",
    "\n",
    "### $$U=e^{-\\frac{x}{2}}\\cdot(x^2+y^2)$$"
   ]
  },
  {
   "cell_type": "markdown",
   "metadata": {},
   "source": [
    "### Решение:\n",
    "### \\begin{cases}\n",
    "   U'_x = -\\frac{1}{2}e^{-\\frac{x}{2}}\\cdot(x^2+y^2) + e^{-\\frac{x}{2}}\\cdot2x = 0, \\\\\n",
    "   U'_y = e^{-\\frac{x}{2}}\\cdot2y = 0\n",
    " \\end{cases}\n",
    " ### \\begin{cases}\n",
    "   -\\frac{1}{2}(x^2+y^2) + 2x = 0, \\\\\n",
    "   y = 0\n",
    " \\end{cases}\n",
    " \n",
    " ### \\begin{cases}\n",
    "   x^2-4x=0 \\\\\n",
    "   y=0 \n",
    " \\end{cases}\n",
    " ### $$(0,0), (0,4)$$\n",
    "  ### $$(0,0)$$\n",
    "  ### $$\\Delta_{1}=2>0$$\n",
    "\n",
    "### $$\\Delta_{2}=\n",
    "\\begin{vmatrix}\n",
    "2 & 0\\\\ \n",
    "0 & 2\\\\\n",
    "\\end{vmatrix}=4>0$$\n",
    "\n",
    "### $$(0,0)\\ -\\ точка\\ минимума$$ \n",
    "### $$(4,0)$$\n",
    "\n",
    "### $$\\Delta_{1}=-\\frac{2}{e^2}<0$$\n",
    "\n",
    "### $$\\Delta_{2}= -\\frac{4}{e^2}<0$$\n",
    "\n",
    "### $$(4,0)\\ -\\ седловая\\ точка$$"
   ]
  },
  {
   "cell_type": "code",
   "execution_count": null,
   "metadata": {},
   "outputs": [],
   "source": []
  }
 ],
 "metadata": {
  "kernelspec": {
   "display_name": "Python 3",
   "language": "python",
   "name": "python3"
  },
  "language_info": {
   "codemirror_mode": {
    "name": "ipython",
    "version": 3
   },
   "file_extension": ".py",
   "mimetype": "text/x-python",
   "name": "python",
   "nbconvert_exporter": "python",
   "pygments_lexer": "ipython3",
   "version": "3.7.6"
  }
 },
 "nbformat": 4,
 "nbformat_minor": 4
}
