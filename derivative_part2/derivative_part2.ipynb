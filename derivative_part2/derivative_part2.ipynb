{
 "cells": [
  {
   "cell_type": "markdown",
   "metadata": {},
   "source": [
    "### __1.__ Найти производную $y'_{x}$ функции:\n",
    "\n",
    "### $$\\mbox{arctg}(\\frac{y}{x})=\\ln \\sqrt{x^2+y^2}$$"
   ]
  },
  {
   "cell_type": "markdown",
   "metadata": {},
   "source": [
    "### $$(\\mbox{arctg}(\\frac{y}{x})-\\ln \\sqrt{x^2+y^2})' = -\\frac{\\frac{\\frac{-y}{x^2}}{1+\\frac{y^2}{x^2}}}{\\frac{2y}{\\sqrt{x^2+y^2}}}=\\frac{1}{2\\sqrt{x^2+y^2}}$$"
   ]
  },
  {
   "cell_type": "markdown",
   "metadata": {},
   "source": [
    "### __2.__ Найти производную $y'_{x}$ функции:\n",
    "\n",
    "### \\begin{cases}\n",
    "   y=\\frac{t^2}{t-1}, \\\\\n",
    "   x=\\frac{t}{t^2-1} \n",
    " \\end{cases}"
   ]
  },
  {
   "cell_type": "markdown",
   "metadata": {},
   "source": [
    "### Решение:\n",
    "### $$ \\Bigr(\\begin{cases}\n",
    "   y=\\frac{t^2}{t-1}, \\\\\n",
    "   x=\\frac{t}{t^2-1} \n",
    " \\end{cases}\\Bigr)' = \\frac{\\frac{2t^2-2t-t^2}{{(t-1)}^2}}{\\frac{-t^2-1}{{(t^2-1)}^2}} = \\frac{(t^2-2t)\\cdot({t + 1)}^2}{-1-t^2}$$"
   ]
  },
  {
   "cell_type": "markdown",
   "metadata": {},
   "source": [
    "### __3.__ Найти производную с помощью логарифмирования:\n",
    "\n",
    "### $$y=(x^2+2)^5\\cdot(3x-x^3)^3$$"
   ]
  },
  {
   "cell_type": "markdown",
   "metadata": {},
   "source": [
    "### Решение:\n",
    "\n",
    "### $$y'=(x^2+2)^5\\cdot(3x-x^3)^3\\cdot(\\ln(x^2+2)^5\\cdot(3x-x^3)^3)'=(x^2+2)^5\\cdot(3x-x^3)^3\\cdot(5\\ln(x^2+2) + 3\\ln(3x-x^3))' = (x^2+2)^5\\cdot(3x-x^3)^3\\cdot\\Bigr(\\frac{10x}{(x^2+2)} + \\frac{9-9x^2}{(3x-x^3)}\\Bigr)$$"
   ]
  },
  {
   "cell_type": "markdown",
   "metadata": {},
   "source": [
    "### __4.__ Найти производную функции с помощью логарифмирования:\n",
    "\n",
    "### $$y=x^x$$"
   ]
  },
  {
   "cell_type": "markdown",
   "metadata": {},
   "source": [
    "### Решение:\n",
    "### $$ y' = x^x\\cdot(ln(x^x)') = x^x \\cdot (lnx +x \\cdot\\frac{1}{x}) = x^x\\cdot(lnx+1)$$"
   ]
  },
  {
   "cell_type": "markdown",
   "metadata": {},
   "source": [
    "__5.__ Найти производную функции с помощью логарифмирования:\n",
    "\n",
    "### $$y=\\frac{(2-x^2)^3\\cdot(x-1)^2}{(2x^3-3x)\\cdot e^x}$$"
   ]
  },
  {
   "cell_type": "markdown",
   "metadata": {},
   "source": [
    "### Решение:\n",
    "### $$ y'=\\frac{(2-x^2)^3\\cdot(x-1)^2}{(2x^3-3x)\\cdot e^x}\\cdot(ln (\\frac{(2-x^2)^3\\cdot(x-1)^2}{(2x^3-3x}))'=$$\n",
    "### $$ =\\frac{(2-x^2)^3\\cdot(x-1)^2}{(2x^3-3x)\\cdot e^x}\\cdot(3ln {(2-x^2)} + 2ln (x-1) - ln (2x^3-3x) - xlne)'=$$\n",
    "### $$=\\frac{(2-x^2)^3\\cdot(x-1)^2}{(2x^3-3x)\\cdot e^x}\\cdot(\\frac {-6x}{2-x^2} + \\frac{2}{x-1} - \\frac{6x^2-3}{2x^3-3x} - 1)$$'"
   ]
  },
  {
   "cell_type": "markdown",
   "metadata": {},
   "source": [
    "__6*.__ Вывести табличное значение производной для функции\n",
    "\n",
    "### $$\\mbox{arctg}(x)$$"
   ]
  },
  {
   "cell_type": "markdown",
   "metadata": {},
   "source": [
    " ### Решение:\n",
    " ### $$ y=\\mbox{arctg}(x) ) \\Rightarrow x = \\mbox{tg(y)}$$\n",
    " ### $$ y'=\\frac{1}{x'}  \\Rightarrow x'=\\frac{1}{y'}$$\n",
    " ### $$ y'=\\frac{1}{\\mbox{tg'(y)}}=\\frac{1}{\\frac{1}{cos^2(y)}} = cos^2y  \\Rightarrow x'=\\frac{1}{cos^2y} = \\frac{sin^2y + cos^2y}{cos^2y}=1 + {\\Bigr(\\frac{siny}{cosy}\\Bigr)}^2 = 1+tg^2y = 1 + x^2 \\Rightarrow$$\n",
    " ### $$ \\Rightarrow y' = \\frac{1}{1+x^2}$$"
   ]
  },
  {
   "cell_type": "markdown",
   "metadata": {},
   "source": [
    "### __7.__ Найти длину $𝑥$ и ширину $𝑦$ прямоугольника при заданном периметре $𝑃=144$ cм, при которых данный прямоугольник имеет наибольшую площадь $𝑆$."
   ]
  },
  {
   "cell_type": "markdown",
   "metadata": {},
   "source": [
    "### Решение:\n",
    "### $$ 2x + 2y = P$$\n",
    "### $$ y = \\frac{P}{2} - x$$\n",
    "### $$ S = x\\cdot(\\frac{P}{2}-x) = \\frac{x\\cdot P}{2} -x^2 - парабола,\\ ветви \\ вниз.\\ Значит\\ экстремум\\ будет \\ точкой\\ максимума.$$\n",
    "### $$ найдем\\ экстремум\\ S' = \\frac{P}{2}-2x = 0 \\Rightarrow x=\\frac{P}{4} \\Rightarrow y=\\frac{P}{4} \\Rightarrow x=36, y=36$$"
   ]
  },
  {
   "cell_type": "code",
   "execution_count": null,
   "metadata": {},
   "outputs": [],
   "source": []
  }
 ],
 "metadata": {
  "kernelspec": {
   "display_name": "Python 3",
   "language": "python",
   "name": "python3"
  },
  "language_info": {
   "codemirror_mode": {
    "name": "ipython",
    "version": 3
   },
   "file_extension": ".py",
   "mimetype": "text/x-python",
   "name": "python",
   "nbconvert_exporter": "python",
   "pygments_lexer": "ipython3",
   "version": "3.7.6"
  }
 },
 "nbformat": 4,
 "nbformat_minor": 4
}
