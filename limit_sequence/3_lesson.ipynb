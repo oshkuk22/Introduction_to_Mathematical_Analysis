{
 "cells": [
  {
   "cell_type": "markdown",
   "metadata": {},
   "source": [
    "### __1.__ Найти предел последовательности:\n",
    "\n",
    "### $$а)\\,\\,\\,\\,\\lim_{n\\to \\infty} \\frac{(23-2n^2)(3n^2+17)^2}{4n^6+n-1}$$\n",
    "\n",
    "### $$б)\\,\\,\\,\\,\\lim_{n\\to \\infty} \\frac{(97-2n)^3}{2n(3n^2+15)+8n}$$\n",
    "\n",
    "### $$в)\\,\\,\\,\\,\\lim_{n\\to \\infty} \\frac{2n^3+13n(n+18)}{(27-n)(2n+19)^2}$$\n",
    "\n",
    "### $$г)\\,\\,\\,\\,\\lim_{n\\to \\infty} (\\sqrt{n^2+1}-n)$$\n",
    "\n",
    "### $$д)\\,\\,\\,\\,\\lim_{n\\to \\infty} \\frac{(-4)^n+5\\cdot7^n}{(-4)^{n-1}+7^{n+2}}$$\n",
    "\n",
    "### $$e)^*\\,\\,\\,\\,\\lim_{n\\to \\infty} \\Bigl(\\frac{1}{1\\cdot2}+\\frac{1}{2\\cdot3}+\\frac{1}{3\\cdot4}+...+\\frac{1}{(n-1)\\cdot n}\\Bigr)$$"
   ]
  },
  {
   "cell_type": "markdown",
   "metadata": {},
   "source": [
    "### Решение:\n",
    "### $$а)\\,\\,\\,\\,\\lim_{n\\to \\infty} \\frac{(23-2n^2)(3n^2+17)^2}{4n^6+n-1} = - \\frac{9}{2} = 4,5$$\n",
    "### $$б)\\,\\,\\,\\,\\lim_{n\\to \\infty} \\frac{(97-2n)^3}{2n(3n^2+15)+8n} = - \\frac{4}{3} = 1.(3)$$ \n",
    "### $$в)\\,\\,\\,\\,\\lim_{n\\to \\infty} \\frac{2n^3+13n(n+18)}{(27-n)(2n+19)^2} = - \\frac{1}{2}$$\n",
    "### $$г)\\,\\,\\,\\,\\lim_{n\\to \\infty} (\\sqrt{n^2+1}-n) = \\frac{n^2+1-n^2}{\\sqrt{n^2+1}+n} = \\frac{1}{\\sqrt{n^2+1}+n} = 0$$\n",
    "### $$д)\\,\\,\\,\\,\\lim_{n\\to \\infty} \\frac{(-4)^n+5\\cdot7^n}{(-4)^{n-1}+7^{n+2}} = \\frac{7^n( \\frac{(-4)^n}{7^n}+5)}{7^n( \\frac{(-4)^{n-1}}{7^n} + 49)} = \\frac{7^n( (\\frac{-4}{7}) ^n+5)}{7^n( \\frac{(-4)^{n-1}}{7^n}+49)} =  \\frac{7^n( (\\frac{-4}{7}) ^n + 5)}{7^n( (\\frac{-4}{7})^n  \\frac{1}{(-4)} + 49)} = \\frac{5}{49}$$\n",
    "### $$e)^*\\,\\,\\,\\,\\lim_{n\\to \\infty} \\Bigl(\\frac{1}{1\\cdot2}+\\frac{1}{2\\cdot3}+\\frac{1}{3\\cdot4}+...+\\frac{1}{(n-1)\\cdot n}\\Bigr) = \\lim_{n\\to \\infty}(1-\\frac{1}{n(n-1)})= 1 $$"
   ]
  },
  {
   "cell_type": "markdown",
   "metadata": {},
   "source": [
    "### __2.__ Представьте $1$ в виде суммы трех рациональных дробей с разными знаменателями и числителем равным $1$.\n",
    "### $$1=\\frac{1}{2} + \\frac{1}{3} + \\frac{1}{6}$$\n"
   ]
  },
  {
   "cell_type": "markdown",
   "metadata": {},
   "source": [
    "### 3 ∗ . Тоже задание, только в виде суммы шести дробей.\n",
    "\n",
    "### $$\\frac{1}{n} = \\frac{1}{n+1} + \\frac{1}{n(n+1)} - разложение\\,аликвотной\\,дроби$$\n",
    "### $$\\frac{1}{2} = \\frac{1}{3} + \\frac{1}{6}$$\n",
    "### $$\\frac{1}{3} = \\frac{1}{4} + \\frac{1}{12}$$\n",
    "### $$\\frac{1}{6} = \\frac{1}{7} + \\frac{1}{42}$$\n",
    "### $$ 1 = \\frac{1}{3} + \\frac{1}{6} + \\frac{1}{4} + \\frac{1}{12} + \\frac{1}{7} + \\frac{1}{42}$$\n"
   ]
  },
  {
   "cell_type": "markdown",
   "metadata": {},
   "source": [
    "### __4.__ Пользуясь критерием Коши, докажите сходимость последовательности:\n",
    "\n",
    "### $$a_n=\\frac{\\sin1}{2}+\\frac{\\sin2}{2^2}+\\frac{\\sin3}{2^3}+..\\frac{\\sin n}{2^n}\\,\\,\\,\\,\\,\\Rightarrow$$\n",
    "\n",
    "### $$\\Bigl\\{a_n\\Bigr\\}_{n=1}^\\infty=\\Bigl\\{\\frac{\\sin1}{2}, \\frac{\\sin1}{2}+\\frac{\\sin2}{2^2}, ..., a_n,...\\Bigr\\}$$\n",
    "\n",
    "\n",
    "$^*$ Какой член последовательности можно взять в качестве предела с точностью $\\varepsilon=10^{-7}$?\n",
    "\n"
   ]
  },
  {
   "cell_type": "markdown",
   "metadata": {},
   "source": [
    "### Решение:\n",
    "### $$ a_n =  \\frac{\\sin1}{2}, \\frac{\\sin1}{2}+\\frac{\\sin2}{2^2}, ... \\frac{sin\\,n}{2^n},$$\n",
    "### $$ \\mid a_{n+m} - a_{n} \\mid \\, = \\,\\mid \\frac{sin\\,n+1}{2^{n+1}} + \\frac{sin\\,+2}{2^{n+2}} + ... + \\frac{sin\\,n+m}{2^{n+m}}\\mid \\,\\leq \\, \\frac{1}{2^{n+1}} + \\frac{1}{2^{n+2}} + ... + \\frac{1}{2^{n+m}} = $$\n",
    "### $$ = \\frac{\\frac{1}{2^{n+1}}(1 - \\frac{1}{2^n})}{1-\\frac{1}{2}} = \\frac{1}{2^n}-\\frac{1}{2^{2n}} \\leq \\frac{1}{2^n} < \\varepsilon, \\forall\\varepsilon > 0$$\n",
    "### $$ n = - log_2\\varepsilon, при\\,\\varepsilon = 10^{-7} , n \\approx 23 $$"
   ]
  },
  {
   "cell_type": "markdown",
   "metadata": {},
   "source": [
    "### __5$^*$.__  Пользуясь критерием Коши, докажите расходимость последовательности:\n",
    "\n",
    "### $$b_n=1+\\frac{1}{2}+\\frac{1}{3}+..\\frac{1}{n}\\,\\,\\,\\,\\,\\Rightarrow$$\n",
    "\n",
    "### $$\\Bigl\\{b_n\\Bigr\\}_{n=1}^\\infty=\\Bigl\\{1, 1+\\frac{1}{2},1+\\frac{1}{2}+\\frac{1}{3}, ..., b_n,...\\Bigr\\}$$"
   ]
  },
  {
   "cell_type": "markdown",
   "metadata": {},
   "source": [
    "### Решение:\n"
   ]
  },
  {
   "cell_type": "markdown",
   "metadata": {},
   "source": [
    "### $$ \\mid b_{n+m} - b_{n} \\mid \\, = \\,\\frac{1}{n+1}+\\frac{1}{n+2} + ... + \\frac{1}{n+m} > \\,\\frac{1}{2(n+1)}+\\frac{1}{2(n+2)} + ... + \\frac{1}{2(n+m)} = \\frac{1 * (n+m)}{2*(n+m)} = \\frac{1}{2},$$\n",
    "### $$то\\,есть\\,больше\\, \\varepsilon, при\\, \\varepsilon=\\frac{1}{2} \\Rightarrow последовательность\\, расходится$$ "
   ]
  },
  {
   "cell_type": "code",
   "execution_count": null,
   "metadata": {},
   "outputs": [],
   "source": []
  }
 ],
 "metadata": {
  "kernelspec": {
   "display_name": "Python 3",
   "language": "python",
   "name": "python3"
  },
  "language_info": {
   "codemirror_mode": {
    "name": "ipython",
    "version": 3
   },
   "file_extension": ".py",
   "mimetype": "text/x-python",
   "name": "python",
   "nbconvert_exporter": "python",
   "pygments_lexer": "ipython3",
   "version": "3.7.6"
  }
 },
 "nbformat": 4,
 "nbformat_minor": 4
}
