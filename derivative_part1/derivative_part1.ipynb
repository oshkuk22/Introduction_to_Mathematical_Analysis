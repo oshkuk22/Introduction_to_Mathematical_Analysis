{
 "cells": [
  {
   "cell_type": "markdown",
   "metadata": {},
   "source": [
    "### __1.__ Найти производную функции:\n",
    "\n",
    "### $$y=\\frac{1}{x}+\\frac{2}{x^2}-\\frac{5}{x^3}+\\sqrt x -\\sqrt[3]x+\\frac{3}{\\sqrt x}$$"
   ]
  },
  {
   "cell_type": "markdown",
   "metadata": {},
   "source": [
    "### Решение:\n",
    "### $$y'=-\\frac{1}{2\\sqrt{x^3}}-\\frac{4}{x^3}+\\frac{15}{x^4}+\\frac{1}{2\\sqrt x} -\\frac{1}{3\\sqrt[3]{x^2}}-\\frac{3}{2\\sqrt {x^3}}$$"
   ]
  },
  {
   "cell_type": "markdown",
   "metadata": {},
   "source": [
    "### __2.__ Найти производную функции:\n",
    "\n",
    "### $$y=x \\cdot \\sqrt {1+x^2}$$"
   ]
  },
  {
   "cell_type": "markdown",
   "metadata": {},
   "source": [
    "### Решение:\n",
    "### $$y'=\\sqrt {1+x^2}+x \\cdot \\frac{1}{2\\sqrt{1+x^2}}\\cdot2x=\\sqrt {1+x^2}+\\frac{x^2}{\\sqrt{1+x^2}}=\\frac {1+2x^2}{\\sqrt{1+x^2}}$$"
   ]
  },
  {
   "cell_type": "markdown",
   "metadata": {},
   "source": [
    "### __3.__ Найти производную функции:\n",
    "\n",
    "### $$y= \\frac{2x}{1-x^2}$$"
   ]
  },
  {
   "cell_type": "markdown",
   "metadata": {},
   "source": [
    "### Решение:\n",
    "### $$y'= \\frac{2-2x^2+4x^2}{{(1-x^2)}^2}=\\frac{2+2x^2}{{(1-x^2)}^2} = \\frac{2(1+x^2)}{{(1-x^2)}^2} = \\frac{2}{1-x^2}$$"
   ]
  },
  {
   "cell_type": "markdown",
   "metadata": {},
   "source": [
    "### __4*.__ Найти производную функции:\n",
    "\n",
    "### $$y=\\sqrt{x+ \\sqrt{x+\\sqrt x}}$$"
   ]
  },
  {
   "cell_type": "markdown",
   "metadata": {},
   "source": [
    "### Решение:\n",
    "### $$y'= \\frac{1}{2\\sqrt{x+ \\sqrt{x+\\sqrt x}}}\\cdot(1+\\frac{1}{2 \\sqrt{x+\\sqrt x}})\\cdot(1+\\frac{1}{2\\sqrt x})=$$\n",
    "### $$=\\frac{1}{2\\sqrt{x+ \\sqrt{x+\\sqrt x}}}\\cdot\\frac{4\\sqrt x\\sqrt{x+\\sqrt x}+2\\sqrt x + 2\\sqrt{x+\\sqrt x}+1}{4\\sqrt x\\sqrt{x+\\sqrt x}} =$$ \n",
    "### $$= \\frac{4\\sqrt x\\sqrt{x+\\sqrt x}+2\\sqrt x + 2\\sqrt{x+\\sqrt x}+1}{2\\sqrt{x+ \\sqrt{x+\\sqrt x}}\\cdot4\\sqrt x\\sqrt{x+\\sqrt x}}$$"
   ]
  },
  {
   "cell_type": "markdown",
   "metadata": {},
   "source": [
    "### __5.__ Найти производную функции:\n",
    "\n",
    "### $$y= \\ln(x+\\sqrt{x^2+1})$$"
   ]
  },
  {
   "cell_type": "markdown",
   "metadata": {},
   "source": [
    "### Решение:\n",
    "### $$y'=\\frac{1}{x+\\sqrt{x^2+1}}\\cdot(1+\\frac{1}{2\\sqrt{x^2+1}})\\cdot2x=\\frac{1}{x+\\sqrt{x^2+1}}\\cdot\\frac{2x\\sqrt{x^2+1}+x}{\\sqrt{x^2+1}}=$$\n",
    "### $$=\\frac{2x\\sqrt{x^2+1}+x}{x\\sqrt{x^2+1}+x^2+1}$$"
   ]
  },
  {
   "cell_type": "markdown",
   "metadata": {},
   "source": [
    "### __6.__ Найти производную функции:\n",
    "\n",
    "### $$y=x \\cdot \\ln(x+\\sqrt{x^2+1})-\\sqrt{x^2+1}$$"
   ]
  },
  {
   "cell_type": "markdown",
   "metadata": {},
   "source": [
    "### Решение:\n",
    "### $$ y' = \\ln(x+\\sqrt{x^2+1}) + x\\cdot\\frac{2x\\sqrt{x^2+1}+x}{x\\sqrt{x^2+1}+x^2+1} -\\frac{x}{\\sqrt{x^2+1}} =$$ $$=\\ln(x+\\sqrt{x^2+1}) + \\frac{2x^2\\sqrt{x^2+1}+x^2}{x\\sqrt{x^2+1}+x^2+1} -\\frac{x}{\\sqrt{x^2+1}} $$"
   ]
  },
  {
   "cell_type": "markdown",
   "metadata": {},
   "source": [
    "### __7*.__ Найти производную функции:\n",
    "\n",
    "### $$y=\\arcsin (\\sin x)$$"
   ]
  },
  {
   "cell_type": "markdown",
   "metadata": {},
   "source": [
    "### Решение:\n"
   ]
  },
  {
   "cell_type": "markdown",
   "metadata": {},
   "source": [
    "### $$y'=\\frac{1}{\\sqrt{1-\\sin^2x}}\\cdot\\cos x= \\frac{\\cos x}{\\sqrt{1-\\sin^2x}} = \\frac{\\cos x}{\\sqrt{\\cos^2x}} = \\frac{\\cos x}{\\mid\\cos x\\mid}$$"
   ]
  },
  {
   "cell_type": "markdown",
   "metadata": {},
   "source": [
    "### __8*.__ Вычислить приближенное значение: \n",
    "\n",
    "### $$\\sin(1^0)=\\sin\\Bigl(\\frac{\\pi}{180}\\Bigr)$$\n"
   ]
  },
  {
   "cell_type": "markdown",
   "metadata": {},
   "source": [
    "### Решение:\n",
    "### $$\\sin(1^0)=\\sin(0^0+\\frac{\\pi}{180})=\\sin 0^0+\\cos 0^0\\cdot\\frac{\\pi}{180}=\\frac{\\pi}{180}$$"
   ]
  },
  {
   "cell_type": "markdown",
   "metadata": {},
   "source": [
    "### 9**. Написать на python алгоритм, по вычислению значений  sin(𝑥)  для  х∈[0,300] \n",
    "#### Для проверки подойдут данные из таблицы Брадиса"
   ]
  },
  {
   "cell_type": "code",
   "execution_count": 19,
   "metadata": {},
   "outputs": [
    {
     "name": "stdout",
     "output_type": "stream",
     "text": [
      "0.4430711908241797\n"
     ]
    }
   ],
   "source": [
    "import math\n",
    "\n",
    "def sin_grade(n):\n",
    "    return(math.sin(math.pi*n/180))\n",
    "\n",
    "print(sin_grade(26.3))"
   ]
  },
  {
   "cell_type": "code",
   "execution_count": null,
   "metadata": {},
   "outputs": [],
   "source": []
  }
 ],
 "metadata": {
  "kernelspec": {
   "display_name": "Python 3",
   "language": "python",
   "name": "python3"
  },
  "language_info": {
   "codemirror_mode": {
    "name": "ipython",
    "version": 3
   },
   "file_extension": ".py",
   "mimetype": "text/x-python",
   "name": "python",
   "nbconvert_exporter": "python",
   "pygments_lexer": "ipython3",
   "version": "3.7.6"
  }
 },
 "nbformat": 4,
 "nbformat_minor": 4
}
