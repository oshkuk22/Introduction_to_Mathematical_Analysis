{
 "cells": [
  {
   "cell_type": "markdown",
   "metadata": {},
   "source": [
    "### __1.__ Вычислить неопределенный интеграл\n",
    "\n",
    "### $$\\int \\frac{2x+3}{(x-2)(x+5)}\\,dx$$"
   ]
  },
  {
   "cell_type": "markdown",
   "metadata": {},
   "source": [
    "### Решение:\n",
    "### $$\\frac{2x+3}{()(x-2)(x-5)}=\\frac{A}{x-2}+\\frac{B}{x+5}=\\frac{A(x+5)+B(x-2)}{(x-2)(x+5)}=\\frac{x(A+B) + 5A -2B}{(x-2)(x+5)}$$ \n",
    "### $$\\begin{cases}\n",
    "   A+B=2 \\\\\n",
    "   5A-2B=3 \\\\\n",
    " \\end{cases}\\,\\,\\,\\,\\,\\Rightarrow\\,\\,\\,\\,\\, \n",
    " \\begin{cases}\n",
    "   A=1 \\\\\n",
    "   B=1 \\\\\n",
    " \\end{cases}$$ \n",
    " \n",
    "### $$\\int \\frac{2x+3}{(x-2)(x+5)}\\,dx = \\int \\frac{1}{x-2}\\,dx+\\int \\frac{1}{x+5}\\,dx= \\ln|x-2|-\\ln|x+5| + C$$"
   ]
  },
  {
   "cell_type": "markdown",
   "metadata": {},
   "source": [
    "### __2.__ Вычислить неопределенный интеграл\n",
    "\n",
    "### $$\\int e^{2x}\\cos 3x\\,dx$$"
   ]
  },
  {
   "cell_type": "markdown",
   "metadata": {},
   "source": [
    "### Решение:\n",
    "### $$\\int e^{2x}\\cos 3x\\,dxx$$ \n",
    "\n",
    "### $$U=e^{2x}\\,\\,\\,\\,\\,\\Rightarrow\\,\\,\\,\\,\\, dU=2e^{2x}dx$$ \n",
    "### $$dV=\\cos 3xdx\\,\\,\\,\\,\\,\\Rightarrow\\,\\,\\,\\,\\, V=\\frac{1}{3}\\sin 3x$$ \n",
    "\n",
    "Тогда:\n",
    "\n",
    "### $$\\int e^{2x}\\cos 3x\\,dx=\\frac{1}{3}e^{2x}\\cdot \\sin 3x-\\frac{2}{3}\\int e^{2x}\\cdot \\sin 3x\\,dx$$ \n",
    "\n",
    "Воспользуемся формулой ещё раз\n",
    "\n",
    "### $$U=e^{2x}\\,\\,\\,\\,\\,\\Rightarrow\\,\\,\\,\\,\\, dU=2e^{2x}dx$$ \n",
    "### $$dV=\\sin 3xdx\\,\\,\\,\\,\\,\\Rightarrow\\,\\,\\,\\,\\, V=-\\frac{1}{3}\\cos 3x$$ \n",
    "\n",
    "Тогда:\n",
    "\n",
    "### $$\\int e^{2x}\\cos 3x\\,dx=\\frac{1}{3}e^{2x}\\cdot \\sin 3x-\\frac{2}{9}e^{2x}\\cdot \\cos 3x +\\frac{4}{9}\\int e^{2x}\\cdot \\cos 3x\\,dx$$ \n",
    "\n",
    "Перенесем интеграл из правой части в левую\n",
    "\n",
    "### $$\\frac{5}{9}\\int e^{2x}\\cos 3x\\,dx=-\\frac{1}{3}e^{2x}\\cdot \\sin 3x-\\frac{2}{9}e^{2x}\\cdot \\cos 3x +C$$\n",
    "\n",
    "### $$\\int e^{2x}\\cos 3x\\,dx=\\frac{-3e^{2x}\\cdot \\sin 3x-2e^{2x}\\cdot \\cos 3x}{5}+C$$"
   ]
  },
  {
   "cell_type": "markdown",
   "metadata": {},
   "source": [
    "### __3.__ Вычислить определенный интеграл\n",
    "\n",
    "### $$\\int\\limits_0^{\\ln2} xe^{-x}\\,dx$$"
   ]
  },
  {
   "cell_type": "markdown",
   "metadata": {},
   "source": [
    "### Решение:\n",
    "### $$\\int\\limits_0^{\\ln2} xe^{-x}\\,dx$$\n",
    "### $$U=x\\,\\,\\,\\,\\,\\Rightarrow\\,\\,\\,\\,\\, dU=dx$$ \n",
    "### $$dV=e^{-x}\\,\\,\\,\\,\\,\\Rightarrow\\,\\,\\,\\,\\, V=-e^{-x}$$ \n",
    "\n",
    "Тогда:\n",
    "\n",
    "### $$\\int\\limits_0^{\\ln2} xe^{-x}\\,dx=-xe^{x} - \\int\\limits_0^{\\ln2} e^{-x}\\,dx = -xe^{x} + e^{-x}\\bigg|_0^{\\ln2} = -2\\ln2+1$$ "
   ]
  },
  {
   "cell_type": "markdown",
   "metadata": {},
   "source": [
    "### __4.__ Вычислить несобственный интеграл\n",
    "\n",
    "### $$\\int\\limits_2^{+\\infty} \\frac{dx}{x^2+x-2}$$"
   ]
  },
  {
   "cell_type": "markdown",
   "metadata": {},
   "source": [
    "### Решение:\n",
    "### $$\\int\\limits_2^{+\\infty} \\frac{dx}{x^2+x-2}=\\int\\limits_2^{+\\infty} \\frac{dx}{(x+2)(x-1)}$$\n",
    "### $$\\frac{1}{(x+2)(x-1)}=\\frac{A}{x+2}+\\frac{B}{x-1}=\\frac{A(x-1)+B(x+2)}{(x+2)(x-1)}=\\frac{x(A+B) - A +2B}{(x+2)(x-1)}$$ \n",
    "### $$\\begin{cases}\n",
    "   A+B=0 \\\\\n",
    "   -A+2B=1 \\\\\n",
    " \\end{cases}\\,\\,\\,\\,\\,\\Rightarrow\\,\\,\\,\\,\\, \n",
    " \\begin{cases}\n",
    "   A=-\\frac{1}{3} \\\\\n",
    "   B=\\frac{1}{3} \\\\\n",
    " \\end{cases}$$ \n",
    "### $$\\int\\limits_2^{+\\infty} \\frac{dx}{x^2+x-2} =  -\\frac{1}{3}\\lim_{a\\to +\\infty}\\int\\limits_{2}^{a}\\frac{dx}{x+2} + \\frac{1}{3}\\lim_{a\\to +\\infty}\\int\\limits_{2}^{a}\\frac{dx}{x-1}=-\\frac{1}{3}\\lim_{a\\to +\\infty}\\ln|x+2|\\bigg|_2^{a}+\\frac{1}{3}\\lim_{a\\to +\\infty}\\ln|x-1|\\bigg|_2^{a} =$$\n",
    "### $$=-\\frac{1}{3}\\lim_{a\\to +\\infty}\\ln{\\frac{|x+2|}{|x-1|}}\\bigg|_2^{a} = -\\frac{1}{3}\\lim_{a\\to +\\infty}\\ln{\\frac{|a+2|}{|a-1|}} + \\frac{1}{3}\\lim_{a\\to +\\infty}\\ln4=\\frac{1}{3}\\ln4$$"
   ]
  },
  {
   "cell_type": "markdown",
   "metadata": {},
   "source": [
    "### __4*.__ Вычислить несобственный интеграл\n",
    "\n",
    "### $$\\int\\limits_0^{1} \\ln x\\,dx$$"
   ]
  },
  {
   "cell_type": "markdown",
   "metadata": {},
   "source": [
    "### Решение:\n",
    "### $$\\int\\limits_0^{1} \\ln x\\,dx$$\n",
    "### $$U=\\ln x\\,\\,\\,\\,\\,\\Rightarrow\\,\\,\\,\\,\\, dU=\\frac{1}{x}dx$$ \n",
    "### $$dV=dx\\,\\,\\,\\,\\,\\Rightarrow\\,\\,\\,\\,\\, V=x$$ \n",
    "Тогда:\n",
    "\n",
    "### $$\\int\\limits_0^{1} \\ln x\\,dx =x\\ln x+ \\int\\limits_0^{1}\\,dx = x\\ln x+x\\bigg|_0^{1} = 1$$ "
   ]
  },
  {
   "cell_type": "code",
   "execution_count": null,
   "metadata": {},
   "outputs": [],
   "source": []
  }
 ],
 "metadata": {
  "kernelspec": {
   "display_name": "Python 3",
   "language": "python",
   "name": "python3"
  },
  "language_info": {
   "codemirror_mode": {
    "name": "ipython",
    "version": 3
   },
   "file_extension": ".py",
   "mimetype": "text/x-python",
   "name": "python",
   "nbconvert_exporter": "python",
   "pygments_lexer": "ipython3",
   "version": "3.7.6"
  }
 },
 "nbformat": 4,
 "nbformat_minor": 4
}
